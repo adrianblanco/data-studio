{
 "cells": [
  {
   "cell_type": "code",
   "execution_count": 25,
   "metadata": {},
   "outputs": [],
   "source": [
    "# https://docs.airnowapi.org/\n",
    "\n",
    "# API examples https://github.com/brennanless/AirNow_EPA_API/blob/master/AirNow_USEPA_API_python.ipynb\n",
    "\n",
    "# https://github.com/lipor/AirNow"
   ]
  },
  {
   "cell_type": "code",
   "execution_count": null,
   "metadata": {},
   "outputs": [],
   "source": [
    "# Stack over flow https://stackoverflow.com/questions/17530542/how-to-add-pandas-data-to-an-existing-csv-file"
   ]
  },
  {
   "cell_type": "markdown",
   "metadata": {},
   "source": [
    "# Current"
   ]
  },
  {
   "cell_type": "code",
   "execution_count": 1,
   "metadata": {},
   "outputs": [
    {
     "name": "stdout",
     "output_type": "stream",
     "text": [
      "[{'DateIssue': '2018-07-20 ', 'DateForecast': '2018-07-20 ', 'ReportingArea': 'New York City Region', 'StateCode': 'NY', 'Latitude': 40.81, 'Longitude': -73.89, 'ParameterName': 'O3', 'AQI': 101, 'Category': {'Number': 3, 'Name': 'Unhealthy for Sensitive Groups'}, 'ActionDay': True, 'Discussion': ''}, {'DateIssue': '2018-07-20 ', 'DateForecast': '2018-07-20 ', 'ReportingArea': 'New York City Region', 'StateCode': 'NY', 'Latitude': 40.81, 'Longitude': -73.89, 'ParameterName': 'PM2.5', 'AQI': 54, 'Category': {'Number': 2, 'Name': 'Moderate'}, 'ActionDay': False, 'Discussion': ''}, {'DateIssue': '2018-07-20 ', 'DateForecast': '2018-07-21 ', 'ReportingArea': 'New York City Region', 'StateCode': 'NY', 'Latitude': 40.81, 'Longitude': -73.89, 'ParameterName': 'O3', 'AQI': 40, 'Category': {'Number': 1, 'Name': 'Good'}, 'ActionDay': False, 'Discussion': ''}, {'DateIssue': '2018-07-20 ', 'DateForecast': '2018-07-21 ', 'ReportingArea': 'New York City Region', 'StateCode': 'NY', 'Latitude': 40.81, 'Longitude': -73.89, 'ParameterName': 'PM2.5', 'AQI': 38, 'Category': {'Number': 1, 'Name': 'Good'}, 'ActionDay': False, 'Discussion': ''}, {'DateIssue': '2018-07-20 ', 'DateForecast': '2018-07-22 ', 'ReportingArea': 'New York City Region', 'StateCode': 'NY', 'Latitude': 40.81, 'Longitude': -73.89, 'ParameterName': 'O3', 'AQI': 50, 'Category': {'Number': 1, 'Name': 'Good'}, 'ActionDay': False, 'Discussion': ''}, {'DateIssue': '2018-07-20 ', 'DateForecast': '2018-07-22 ', 'ReportingArea': 'New York City Region', 'StateCode': 'NY', 'Latitude': 40.81, 'Longitude': -73.89, 'ParameterName': 'PM2.5', 'AQI': 39, 'Category': {'Number': 1, 'Name': 'Good'}, 'ActionDay': False, 'Discussion': ''}, {'DateIssue': '2018-07-20 ', 'DateForecast': '2018-07-23 ', 'ReportingArea': 'New York City Region', 'StateCode': 'NY', 'Latitude': 40.81, 'Longitude': -73.89, 'ParameterName': 'O3', 'AQI': 50, 'Category': {'Number': 1, 'Name': 'Good'}, 'ActionDay': False, 'Discussion': ''}, {'DateIssue': '2018-07-20 ', 'DateForecast': '2018-07-23 ', 'ReportingArea': 'New York City Region', 'StateCode': 'NY', 'Latitude': 40.81, 'Longitude': -73.89, 'ParameterName': 'PM2.5', 'AQI': 39, 'Category': {'Number': 1, 'Name': 'Good'}, 'ActionDay': False, 'Discussion': ''}]\n"
     ]
    }
   ],
   "source": [
    "import requests\n",
    "response = requests.get('http://www.airnowapi.org/aq/forecast/zipCode/?format=application/json&zipCode=11211&date=2018-07-20&distance=5&API_KEY=6DA9B461-48E2-4723-90B8-D62E5E7F2EE6')\n",
    "data = response.json()\n",
    "print(data)"
   ]
  },
  {
   "cell_type": "markdown",
   "metadata": {},
   "source": [
    "# Specific date"
   ]
  },
  {
   "cell_type": "code",
   "execution_count": 39,
   "metadata": {},
   "outputs": [],
   "source": [
    "# AirNow API Python Code\n",
    "# Author Ami Gates\n",
    "# AirNowCh14Example.py\n",
    "\n",
    "import urllib\n",
    "from urllib.request import urlopen\n",
    "import pandas as pd\n",
    "import re\n",
    "import numpy\n",
    "\n",
    "def main():\n",
    "\n",
    "    FileName=\"AirNowExample.csv\"\n",
    "\n",
    "#Header=['\"DateObserved\",\"HourObserved\",\"LocalTimeZone\",\"ReportingArea\",\"StateCode\",\"Latitude\",\"Longitude\",\"ParameterName\",\"AQI\",\"CategoryNumber\",\"CategoryName\"']\n",
    "\n",
    "    ziplist=[\"20007\", \"90210\", \"32605\", \"10001\", \"97202\",\"33432\"]\n",
    "\n",
    "    datelist=[\"2004-01-01\", \"2006-01-01\", \"2008-01-01\",\"2010-01-01\",\"2012-01-01\",\"2014-01-01\",\"2016-01-01\"]\n",
    "\n",
    "    GetAirNowData(FileName, ziplist, datelist)\n",
    "\n",
    "          \n",
    "def GetAirNowData(FileName, ziplist, datelist):\n",
    "\n",
    "##http://www.airnowapi.org/aq/observation/zipCode/historical/?format=text/csv&zipCode=20002&date=2014-09-03T00-0000&distance=25&API_KEY=D9AA91E7-070D-4221-867C-EFF5E0D8C2C7\n",
    "    \n",
    "    ZipDict={}\n",
    "    \n",
    "    #Create a new file - if exists - will delete\n",
    "    File=open(FileName, \"w\")\n",
    "    File.close()\n",
    "    \n",
    "    #----\n",
    "    #Open for append\n",
    "    \n",
    "    File=open(FileName, \"a\")\n",
    "    \n",
    "    baseURL=\"http://www.airnowapi.org/aq/observation/zipCode/historical/?\"\n",
    "    \n",
    "    miles=5\n",
    "\n",
    "    for zipcode in ziplist:\n",
    "        for date in datelist:\n",
    "            zipURL=baseURL + urllib.parse.urlencode({'format': \"text/csv\",\n",
    "            #'format':'application/json',\n",
    "            'zipCode':zipcode,\n",
    "            'date':date+'T00-0000',\n",
    "            #yyyy-MM-ddThh-mmss\"\n",
    "            'distance':miles,\n",
    "            'API_KEY':'6DA9B461-48E2-4723-90B8-D62E5E7F2EE6'\n",
    "            })\n",
    "            #print(zipURL)\n",
    "\n",
    "            response=urlopen(zipURL).read().decode('utf-8')\n",
    "            responseCopy=response\n",
    "            #Build Dict for zip code and city\n",
    "            ZipDict[str(responseCopy)]=zipcode\n",
    "            response=response+\"\\n\"\n",
    "            #response=urlopen(zipURL).read()\n",
    "            File.write(response)\n",
    "\n",
    "\n",
    "\n",
    "    File.close()\n",
    "    #Create a file for the zipcode/city dict for later\n",
    "    File=open(\"DictFile.txt\",\"w\")\n",
    "    File.write(str(ZipDict))\n",
    "    File.close()\n",
    "\n",
    "main()"
   ]
  },
  {
   "cell_type": "code",
   "execution_count": 46,
   "metadata": {},
   "outputs": [
    {
     "name": "stdout",
     "output_type": "stream",
     "text": [
      "2018-07-29\n"
     ]
    }
   ],
   "source": [
    "import datetime as dt \n",
    "today = dt.datetime.today().strftime(\"%Y-%m-%d\")\n",
    "print(today)"
   ]
  },
  {
   "cell_type": "code",
   "execution_count": 51,
   "metadata": {},
   "outputs": [
    {
     "name": "stdout",
     "output_type": "stream",
     "text": [
      "2018-07-29 12:06:23.171459\n"
     ]
    }
   ],
   "source": [
    "import pandas as pd\n",
    "today = pd.to_datetime('today')\n",
    "print(today)"
   ]
  },
  {
   "cell_type": "code",
   "execution_count": null,
   "metadata": {},
   "outputs": [],
   "source": [
    "import requests\n",
    "import pandas as pd\n",
    "import re\n",
    "import numpy\n",
    "today = dt.datetime.today().strftime(\"%m/%d/%Y\")\n",
    "\n",
    "response = requests.get('http://www.airnowapi.org/aq/observation/zipCode/historical/?format=application/json&zipCode=ziplist&date=2018-07-02T00-0000&distance=25&API_KEY=6DA9B461-48E2-4723-90B8-D62E5E7F2EE6')\n",
    "\n",
    "ziplist=[\"20007\", \"90210\", \"32605\", \"10001\", \"97202\",\"33432\"]\n",
    "\n",
    "datelist=[\"2004-01-01\", \"2006-01-01\", \"2008-01-01\",\"2010-01-01\",\"2012-01-01\",\"2014-01-01\",\"2016-01-01\"]\n",
    "\n",
    "GetAirNowData(FileName, ziplist, datelist)\n",
    "\n",
    "          \n",
    "def GetAirNowData(FileName, ziplist, datelist):\n",
    "\n",
    "##http://www.airnowapi.org/aq/observation/zipCode/historical/?format=text/csv&zipCode=20002&date=2014-09-03T00-0000&distance=25&API_KEY=D9AA91E7-070D-4221-867C-EFF5E0D8C2C7\n",
    "    \n",
    "    ZipDict={}\n",
    "    \n",
    "    #Create a new file - if exists - will delete\n",
    "    File=open(FileName, \"w\")\n",
    "    File.close()\n",
    "    \n",
    "    #----\n",
    "    #Open for append\n",
    "    \n",
    "    File=open(FileName, \"a\")\n",
    "    \n",
    "    baseURL=\"http://www.airnowapi.org/aq/observation/zipCode/historical/?\"\n",
    "    \n",
    "    miles=5\n",
    "\n",
    "    for zipcode in ziplist:\n",
    "        \n",
    "        for date in datelist:\n",
    "            zipURL=baseURL + urllib.parse.urlencode({'format': \"text/csv\",\n",
    "            #'format':'application/json',\n",
    "            'zipCode':zipcode,\n",
    "            'date':date+'T00-0000',\n",
    "            #yyyy-MM-ddThh-mmss\"\n",
    "            'distance':miles,\n",
    "            'API_KEY':'6DA9B461-48E2-4723-90B8-D62E5E7F2EE6'\n",
    "            })\n",
    "            #print(zipURL)\n",
    "\n",
    "            response=urlopen(zipURL).read().decode('utf-8')\n",
    "            responseCopy=response\n",
    "            #Build Dict for zip code and city\n",
    "            ZipDict[str(responseCopy)]=zipcode\n",
    "            response=response+\"\\n\"\n",
    "            #response=urlopen(zipURL).read()\n",
    "            File.write(response)\n",
    "\n",
    "\n",
    "\n",
    "    File.close()\n",
    "    #Create a file for the zipcode/city dict for later\n",
    "    File=open(\"DictFile.txt\",\"w\")\n",
    "    File.write(str(ZipDict))\n",
    "    File.close()"
   ]
  },
  {
   "cell_type": "code",
   "execution_count": 52,
   "metadata": {},
   "outputs": [
    {
     "name": "stdout",
     "output_type": "stream",
     "text": [
      "[{'DateObserved': '2018-07-02 ', 'HourObserved': 0, 'LocalTimeZone': 'EST', 'ReportingArea': 'Metropolitan Washington', 'StateCode': 'DC', 'Latitude': 38.919, 'Longitude': -77.013, 'ParameterName': 'OZONE', 'AQI': 90, 'Category': {'Number': 2, 'Name': 'Moderate'}}, {'DateObserved': '2018-07-02 ', 'HourObserved': 0, 'LocalTimeZone': 'EST', 'ReportingArea': 'Metropolitan Washington', 'StateCode': 'DC', 'Latitude': 38.919, 'Longitude': -77.013, 'ParameterName': 'PM2.5', 'AQI': 64, 'Category': {'Number': 2, 'Name': 'Moderate'}}]\n",
      "[{'DateObserved': '2018-07-02 ', 'HourObserved': 0, 'LocalTimeZone': 'PST', 'ReportingArea': 'NW Coastal LA', 'StateCode': 'CA', 'Latitude': 34.0505, 'Longitude': -118.4566, 'ParameterName': 'OZONE', 'AQI': 35, 'Category': {'Number': 1, 'Name': 'Good'}}, {'DateObserved': '2018-07-02 ', 'HourObserved': 0, 'LocalTimeZone': 'PST', 'ReportingArea': 'NW Coastal LA', 'StateCode': 'CA', 'Latitude': 34.0505, 'Longitude': -118.4566, 'ParameterName': 'PM2.5', 'AQI': 27, 'Category': {'Number': 1, 'Name': 'Good'}}]\n",
      "[]\n",
      "[{'DateObserved': '2018-07-02 ', 'HourObserved': 0, 'LocalTimeZone': 'EST', 'ReportingArea': 'New York City Region', 'StateCode': 'NY', 'Latitude': 40.81, 'Longitude': -73.89, 'ParameterName': 'OZONE', 'AQI': 169, 'Category': {'Number': 4, 'Name': 'Unhealthy'}}, {'DateObserved': '2018-07-02 ', 'HourObserved': 0, 'LocalTimeZone': 'EST', 'ReportingArea': 'New York City Region', 'StateCode': 'NY', 'Latitude': 40.81, 'Longitude': -73.89, 'ParameterName': 'PM2.5', 'AQI': 91, 'Category': {'Number': 2, 'Name': 'Moderate'}}]\n",
      "[{'DateObserved': '2018-07-02 ', 'HourObserved': 0, 'LocalTimeZone': 'PST', 'ReportingArea': 'Portland', 'StateCode': 'OR', 'Latitude': 45.538, 'Longitude': -122.656, 'ParameterName': 'OZONE', 'AQI': 31, 'Category': {'Number': 1, 'Name': 'Good'}}, {'DateObserved': '2018-07-02 ', 'HourObserved': 0, 'LocalTimeZone': 'PST', 'ReportingArea': 'Portland', 'StateCode': 'OR', 'Latitude': 45.538, 'Longitude': -122.656, 'ParameterName': 'PM2.5', 'AQI': 10, 'Category': {'Number': 1, 'Name': 'Good'}}]\n",
      "[{'DateObserved': '2018-07-02 ', 'HourObserved': 0, 'LocalTimeZone': 'EST', 'ReportingArea': 'West Palm Beach', 'StateCode': 'FL', 'Latitude': 26.715, 'Longitude': -80.062, 'ParameterName': 'OZONE', 'AQI': 16, 'Category': {'Number': 1, 'Name': 'Good'}}, {'DateObserved': '2018-07-02 ', 'HourObserved': 0, 'LocalTimeZone': 'EST', 'ReportingArea': 'West Palm Beach', 'StateCode': 'FL', 'Latitude': 26.715, 'Longitude': -80.062, 'ParameterName': 'PM2.5', 'AQI': 39, 'Category': {'Number': 1, 'Name': 'Good'}}]\n"
     ]
    }
   ],
   "source": [
    "import requests\n",
    "\n",
    "apikey = '6DA9B461-48E2-4723-90B8-D62E5E7F2EE6'\n",
    "baseurl = 'http://www.airnowapi.org/aq/observation/zipCode/historical/?format=application/json'\n",
    "zipcodes = [\"20007\", \"90210\", \"32605\", \"10001\", \"97202\",\"33432\"]\n",
    "\n",
    "# '&zipCode=ziplist\n",
    "\n",
    "\n",
    "for zipcode in zipcodes:\n",
    "    \n",
    "    url = baseurl + '&zipCode=' + zipcode + '&date=2018-07-02T00-0000&distance=5&API_KEY=' + apikey\n",
    "\n",
    "    response = requests.get(url)\n",
    "    \n",
    "    data = response.json()\n",
    "    \n",
    "    print(data)\n"
   ]
  },
  {
   "cell_type": "code",
   "execution_count": null,
   "metadata": {},
   "outputs": [],
   "source": [
    "# Specific zipcode and date\n",
    "# How to pull different zipcodes\n",
    "# How to change date"
   ]
  },
  {
   "cell_type": "code",
   "execution_count": 35,
   "metadata": {},
   "outputs": [],
   "source": [
    "ziplist=[\"10032\", \"11211\", \"32605\"]"
   ]
  },
  {
   "cell_type": "code",
   "execution_count": 36,
   "metadata": {},
   "outputs": [
    {
     "name": "stdout",
     "output_type": "stream",
     "text": [
      "[]\n"
     ]
    }
   ],
   "source": [
    "import requests\n",
    "response = requests.get('http://www.airnowapi.org/aq/observation/zipCode/historical/?format=application/json&zipCode=ziplist&date=2018-07-02T00-0000&distance=25&API_KEY=6DA9B461-48E2-4723-90B8-D62E5E7F2EE6')\n",
    "data = response.json()\n",
    "print(data)"
   ]
  },
  {
   "cell_type": "code",
   "execution_count": 11,
   "metadata": {},
   "outputs": [
    {
     "name": "stdout",
     "output_type": "stream",
     "text": [
      "OZONE 169 Unhealthy\n",
      "PM2.5 91 Moderate\n"
     ]
    }
   ],
   "source": [
    "for row in data:\n",
    "    print(row['ParameterName'], row['AQI'], row['Category']['Name'])"
   ]
  },
  {
   "cell_type": "code",
   "execution_count": 27,
   "metadata": {},
   "outputs": [
    {
     "name": "stdout",
     "output_type": "stream",
     "text": [
      "2018-07-29 11:35:49.395182\n"
     ]
    }
   ],
   "source": [
    "import datetime\n",
    "datetime.datetime.now()\n",
    "print(datetime.datetime.now())\n",
    "\n",
    "\n",
    "from time import gmtime, strftime"
   ]
  },
  {
   "cell_type": "code",
   "execution_count": 30,
   "metadata": {},
   "outputs": [
    {
     "name": "stdout",
     "output_type": "stream",
     "text": [
      "[{'parameter': 'OZONE', 'aqi': 169, 'category': 'Unhealthy', 'Latitude': 40.81, 'Longitude': -73.89, 'time': '2018-07-29T11:39:20.439210'}, {'parameter': 'PM2.5', 'aqi': 91, 'category': 'Moderate', 'Latitude': 40.81, 'Longitude': -73.89, 'time': '2018-07-29T11:39:20.439222'}]\n"
     ]
    }
   ],
   "source": [
    "# list\n",
    "dt = []\n",
    "\n",
    "for row in data:\n",
    "    \n",
    "    newdict = {}\n",
    "    \n",
    "    newdict['parameter'] = row['ParameterName']\n",
    "    newdict['aqi'] = row['AQI']\n",
    "    newdict['category'] = row['Category']['Name']\n",
    "    # Add zipcode\n",
    "    newdict['Latitude'] = row['Latitude']\n",
    "    newdict['Longitude'] = row['Longitude']\n",
    "    # Add date and time\n",
    "    newdict['time'] = datetime.datetime.now().isoformat()\n",
    "    \n",
    "    dt.append(newdict)\n",
    "    \n",
    "print(dt)\n"
   ]
  },
  {
   "cell_type": "markdown",
   "metadata": {},
   "source": [
    "## Check recent pull"
   ]
  },
  {
   "cell_type": "code",
   "execution_count": 13,
   "metadata": {},
   "outputs": [
    {
     "data": {
      "text/html": [
       "<div>\n",
       "<style scoped>\n",
       "    .dataframe tbody tr th:only-of-type {\n",
       "        vertical-align: middle;\n",
       "    }\n",
       "\n",
       "    .dataframe tbody tr th {\n",
       "        vertical-align: top;\n",
       "    }\n",
       "\n",
       "    .dataframe thead th {\n",
       "        text-align: right;\n",
       "    }\n",
       "</style>\n",
       "<table border=\"1\" class=\"dataframe\">\n",
       "  <thead>\n",
       "    <tr style=\"text-align: right;\">\n",
       "      <th></th>\n",
       "      <th>Latitude</th>\n",
       "      <th>Longitude</th>\n",
       "      <th>aqi</th>\n",
       "      <th>category</th>\n",
       "      <th>parameter</th>\n",
       "    </tr>\n",
       "  </thead>\n",
       "  <tbody>\n",
       "    <tr>\n",
       "      <th>0</th>\n",
       "      <td>40.81</td>\n",
       "      <td>-73.89</td>\n",
       "      <td>169</td>\n",
       "      <td>Unhealthy</td>\n",
       "      <td>OZONE</td>\n",
       "    </tr>\n",
       "    <tr>\n",
       "      <th>1</th>\n",
       "      <td>40.81</td>\n",
       "      <td>-73.89</td>\n",
       "      <td>91</td>\n",
       "      <td>Moderate</td>\n",
       "      <td>PM2.5</td>\n",
       "    </tr>\n",
       "  </tbody>\n",
       "</table>\n",
       "</div>"
      ],
      "text/plain": [
       "   Latitude  Longitude  aqi   category parameter\n",
       "0     40.81     -73.89  169  Unhealthy     OZONE\n",
       "1     40.81     -73.89   91   Moderate     PM2.5"
      ]
     },
     "execution_count": 13,
     "metadata": {},
     "output_type": "execute_result"
    }
   ],
   "source": [
    "import pandas as pd\n",
    "\n",
    "df = pd.DataFrame(dt)\n",
    "\n",
    "df"
   ]
  },
  {
   "cell_type": "markdown",
   "metadata": {},
   "source": [
    "## Add data to the .csv file"
   ]
  },
  {
   "cell_type": "code",
   "execution_count": 14,
   "metadata": {},
   "outputs": [],
   "source": [
    "df.to_csv('my_csv.csv', mode='a', header=False)"
   ]
  },
  {
   "cell_type": "markdown",
   "metadata": {},
   "source": [
    "## Read saved data"
   ]
  },
  {
   "cell_type": "code",
   "execution_count": 16,
   "metadata": {},
   "outputs": [
    {
     "ename": "ParserError",
     "evalue": "Error tokenizing data. C error: Expected 4 fields in line 7, saw 6\n",
     "output_type": "error",
     "traceback": [
      "\u001b[0;31m---------------------------------------------------------------------------\u001b[0m",
      "\u001b[0;31mParserError\u001b[0m                               Traceback (most recent call last)",
      "\u001b[0;32m<ipython-input-16-25bce6d765e7>\u001b[0m in \u001b[0;36m<module>\u001b[0;34m()\u001b[0m\n\u001b[0;32m----> 1\u001b[0;31m \u001b[0mdata\u001b[0m \u001b[0;34m=\u001b[0m \u001b[0mpd\u001b[0m\u001b[0;34m.\u001b[0m\u001b[0mread_csv\u001b[0m\u001b[0;34m(\u001b[0m\u001b[0;34m\"my_csv.csv\"\u001b[0m\u001b[0;34m)\u001b[0m\u001b[0;34m\u001b[0m\u001b[0m\n\u001b[0m",
      "\u001b[0;32m~/.pyenv/versions/3.6.5/lib/python3.6/site-packages/pandas/io/parsers.py\u001b[0m in \u001b[0;36mparser_f\u001b[0;34m(filepath_or_buffer, sep, delimiter, header, names, index_col, usecols, squeeze, prefix, mangle_dupe_cols, dtype, engine, converters, true_values, false_values, skipinitialspace, skiprows, nrows, na_values, keep_default_na, na_filter, verbose, skip_blank_lines, parse_dates, infer_datetime_format, keep_date_col, date_parser, dayfirst, iterator, chunksize, compression, thousands, decimal, lineterminator, quotechar, quoting, escapechar, comment, encoding, dialect, tupleize_cols, error_bad_lines, warn_bad_lines, skipfooter, doublequote, delim_whitespace, low_memory, memory_map, float_precision)\u001b[0m\n\u001b[1;32m    676\u001b[0m                     skip_blank_lines=skip_blank_lines)\n\u001b[1;32m    677\u001b[0m \u001b[0;34m\u001b[0m\u001b[0m\n\u001b[0;32m--> 678\u001b[0;31m         \u001b[0;32mreturn\u001b[0m \u001b[0m_read\u001b[0m\u001b[0;34m(\u001b[0m\u001b[0mfilepath_or_buffer\u001b[0m\u001b[0;34m,\u001b[0m \u001b[0mkwds\u001b[0m\u001b[0;34m)\u001b[0m\u001b[0;34m\u001b[0m\u001b[0m\n\u001b[0m\u001b[1;32m    679\u001b[0m \u001b[0;34m\u001b[0m\u001b[0m\n\u001b[1;32m    680\u001b[0m     \u001b[0mparser_f\u001b[0m\u001b[0;34m.\u001b[0m\u001b[0m__name__\u001b[0m \u001b[0;34m=\u001b[0m \u001b[0mname\u001b[0m\u001b[0;34m\u001b[0m\u001b[0m\n",
      "\u001b[0;32m~/.pyenv/versions/3.6.5/lib/python3.6/site-packages/pandas/io/parsers.py\u001b[0m in \u001b[0;36m_read\u001b[0;34m(filepath_or_buffer, kwds)\u001b[0m\n\u001b[1;32m    444\u001b[0m \u001b[0;34m\u001b[0m\u001b[0m\n\u001b[1;32m    445\u001b[0m     \u001b[0;32mtry\u001b[0m\u001b[0;34m:\u001b[0m\u001b[0;34m\u001b[0m\u001b[0m\n\u001b[0;32m--> 446\u001b[0;31m         \u001b[0mdata\u001b[0m \u001b[0;34m=\u001b[0m \u001b[0mparser\u001b[0m\u001b[0;34m.\u001b[0m\u001b[0mread\u001b[0m\u001b[0;34m(\u001b[0m\u001b[0mnrows\u001b[0m\u001b[0;34m)\u001b[0m\u001b[0;34m\u001b[0m\u001b[0m\n\u001b[0m\u001b[1;32m    447\u001b[0m     \u001b[0;32mfinally\u001b[0m\u001b[0;34m:\u001b[0m\u001b[0;34m\u001b[0m\u001b[0m\n\u001b[1;32m    448\u001b[0m         \u001b[0mparser\u001b[0m\u001b[0;34m.\u001b[0m\u001b[0mclose\u001b[0m\u001b[0;34m(\u001b[0m\u001b[0;34m)\u001b[0m\u001b[0;34m\u001b[0m\u001b[0m\n",
      "\u001b[0;32m~/.pyenv/versions/3.6.5/lib/python3.6/site-packages/pandas/io/parsers.py\u001b[0m in \u001b[0;36mread\u001b[0;34m(self, nrows)\u001b[0m\n\u001b[1;32m   1034\u001b[0m                 \u001b[0;32mraise\u001b[0m \u001b[0mValueError\u001b[0m\u001b[0;34m(\u001b[0m\u001b[0;34m'skipfooter not supported for iteration'\u001b[0m\u001b[0;34m)\u001b[0m\u001b[0;34m\u001b[0m\u001b[0m\n\u001b[1;32m   1035\u001b[0m \u001b[0;34m\u001b[0m\u001b[0m\n\u001b[0;32m-> 1036\u001b[0;31m         \u001b[0mret\u001b[0m \u001b[0;34m=\u001b[0m \u001b[0mself\u001b[0m\u001b[0;34m.\u001b[0m\u001b[0m_engine\u001b[0m\u001b[0;34m.\u001b[0m\u001b[0mread\u001b[0m\u001b[0;34m(\u001b[0m\u001b[0mnrows\u001b[0m\u001b[0;34m)\u001b[0m\u001b[0;34m\u001b[0m\u001b[0m\n\u001b[0m\u001b[1;32m   1037\u001b[0m \u001b[0;34m\u001b[0m\u001b[0m\n\u001b[1;32m   1038\u001b[0m         \u001b[0;31m# May alter columns / col_dict\u001b[0m\u001b[0;34m\u001b[0m\u001b[0;34m\u001b[0m\u001b[0m\n",
      "\u001b[0;32m~/.pyenv/versions/3.6.5/lib/python3.6/site-packages/pandas/io/parsers.py\u001b[0m in \u001b[0;36mread\u001b[0;34m(self, nrows)\u001b[0m\n\u001b[1;32m   1846\u001b[0m     \u001b[0;32mdef\u001b[0m \u001b[0mread\u001b[0m\u001b[0;34m(\u001b[0m\u001b[0mself\u001b[0m\u001b[0;34m,\u001b[0m \u001b[0mnrows\u001b[0m\u001b[0;34m=\u001b[0m\u001b[0;32mNone\u001b[0m\u001b[0;34m)\u001b[0m\u001b[0;34m:\u001b[0m\u001b[0;34m\u001b[0m\u001b[0m\n\u001b[1;32m   1847\u001b[0m         \u001b[0;32mtry\u001b[0m\u001b[0;34m:\u001b[0m\u001b[0;34m\u001b[0m\u001b[0m\n\u001b[0;32m-> 1848\u001b[0;31m             \u001b[0mdata\u001b[0m \u001b[0;34m=\u001b[0m \u001b[0mself\u001b[0m\u001b[0;34m.\u001b[0m\u001b[0m_reader\u001b[0m\u001b[0;34m.\u001b[0m\u001b[0mread\u001b[0m\u001b[0;34m(\u001b[0m\u001b[0mnrows\u001b[0m\u001b[0;34m)\u001b[0m\u001b[0;34m\u001b[0m\u001b[0m\n\u001b[0m\u001b[1;32m   1849\u001b[0m         \u001b[0;32mexcept\u001b[0m \u001b[0mStopIteration\u001b[0m\u001b[0;34m:\u001b[0m\u001b[0;34m\u001b[0m\u001b[0m\n\u001b[1;32m   1850\u001b[0m             \u001b[0;32mif\u001b[0m \u001b[0mself\u001b[0m\u001b[0;34m.\u001b[0m\u001b[0m_first_chunk\u001b[0m\u001b[0;34m:\u001b[0m\u001b[0;34m\u001b[0m\u001b[0m\n",
      "\u001b[0;32mpandas/_libs/parsers.pyx\u001b[0m in \u001b[0;36mpandas._libs.parsers.TextReader.read\u001b[0;34m()\u001b[0m\n",
      "\u001b[0;32mpandas/_libs/parsers.pyx\u001b[0m in \u001b[0;36mpandas._libs.parsers.TextReader._read_low_memory\u001b[0;34m()\u001b[0m\n",
      "\u001b[0;32mpandas/_libs/parsers.pyx\u001b[0m in \u001b[0;36mpandas._libs.parsers.TextReader._read_rows\u001b[0;34m()\u001b[0m\n",
      "\u001b[0;32mpandas/_libs/parsers.pyx\u001b[0m in \u001b[0;36mpandas._libs.parsers.TextReader._tokenize_rows\u001b[0;34m()\u001b[0m\n",
      "\u001b[0;32mpandas/_libs/parsers.pyx\u001b[0m in \u001b[0;36mpandas._libs.parsers.raise_parser_error\u001b[0;34m()\u001b[0m\n",
      "\u001b[0;31mParserError\u001b[0m: Error tokenizing data. C error: Expected 4 fields in line 7, saw 6\n"
     ]
    }
   ],
   "source": [
    "data = pd.read_csv(\"my_csv.csv\")"
   ]
  },
  {
   "cell_type": "code",
   "execution_count": 8,
   "metadata": {},
   "outputs": [
    {
     "data": {
      "text/html": [
       "<div>\n",
       "<style scoped>\n",
       "    .dataframe tbody tr th:only-of-type {\n",
       "        vertical-align: middle;\n",
       "    }\n",
       "\n",
       "    .dataframe tbody tr th {\n",
       "        vertical-align: top;\n",
       "    }\n",
       "\n",
       "    .dataframe thead th {\n",
       "        text-align: right;\n",
       "    }\n",
       "</style>\n",
       "<table border=\"1\" class=\"dataframe\">\n",
       "  <thead>\n",
       "    <tr style=\"text-align: right;\">\n",
       "      <th></th>\n",
       "      <th>0</th>\n",
       "      <th>140</th>\n",
       "      <th>Unhealthy for Sensitive Groups</th>\n",
       "      <th>OZONE</th>\n",
       "    </tr>\n",
       "  </thead>\n",
       "  <tbody>\n",
       "    <tr>\n",
       "      <th>0</th>\n",
       "      <td>1</td>\n",
       "      <td>74</td>\n",
       "      <td>Moderate</td>\n",
       "      <td>PM2.5</td>\n",
       "    </tr>\n",
       "    <tr>\n",
       "      <th>1</th>\n",
       "      <td>0</td>\n",
       "      <td>169</td>\n",
       "      <td>Unhealthy</td>\n",
       "      <td>OZONE</td>\n",
       "    </tr>\n",
       "    <tr>\n",
       "      <th>2</th>\n",
       "      <td>1</td>\n",
       "      <td>91</td>\n",
       "      <td>Moderate</td>\n",
       "      <td>PM2.5</td>\n",
       "    </tr>\n",
       "    <tr>\n",
       "      <th>3</th>\n",
       "      <td>0</td>\n",
       "      <td>169</td>\n",
       "      <td>Unhealthy</td>\n",
       "      <td>OZONE</td>\n",
       "    </tr>\n",
       "    <tr>\n",
       "      <th>4</th>\n",
       "      <td>1</td>\n",
       "      <td>91</td>\n",
       "      <td>Moderate</td>\n",
       "      <td>PM2.5</td>\n",
       "    </tr>\n",
       "  </tbody>\n",
       "</table>\n",
       "</div>"
      ],
      "text/plain": [
       "   0  140 Unhealthy for Sensitive Groups  OZONE\n",
       "0  1   74                       Moderate  PM2.5\n",
       "1  0  169                      Unhealthy  OZONE\n",
       "2  1   91                       Moderate  PM2.5\n",
       "3  0  169                      Unhealthy  OZONE\n",
       "4  1   91                       Moderate  PM2.5"
      ]
     },
     "execution_count": 8,
     "metadata": {},
     "output_type": "execute_result"
    }
   ],
   "source": [
    "data"
   ]
  },
  {
   "cell_type": "code",
   "execution_count": null,
   "metadata": {},
   "outputs": [],
   "source": [
    "df.dtypes"
   ]
  },
  {
   "cell_type": "code",
   "execution_count": null,
   "metadata": {},
   "outputs": [],
   "source": [
    "df.aqi"
   ]
  },
  {
   "cell_type": "code",
   "execution_count": null,
   "metadata": {},
   "outputs": [],
   "source": []
  },
  {
   "cell_type": "code",
   "execution_count": null,
   "metadata": {},
   "outputs": [],
   "source": []
  },
  {
   "cell_type": "code",
   "execution_count": null,
   "metadata": {},
   "outputs": [],
   "source": [
    "import matplotlib.pyplot as plt\n",
    "from cycler import cycler\n",
    "\n",
    "%matplotlib inline"
   ]
  },
  {
   "cell_type": "code",
   "execution_count": null,
   "metadata": {},
   "outputs": [],
   "source": [
    "plt.rcdefaults()\n",
    "plt.rcParams.update({\n",
    "    'pdf.fonttype': 42,\n",
    "    'ps.fonttype': 42,\n",
    "    'axes.titlesize': 'x-large',\n",
    "    'axes.grid': True,\n",
    "    'grid.color': '#131313',\n",
    "    'axes.axisbelow': True,\n",
    "    'font.serif': 'Arial',\n",
    "    'figure.facecolor': '#F6F6EE',\n",
    "    'figure.titleweight' : 'bold',\n",
    "    'figure.titlesize' : 'large',\n",
    "    'axes.grid': False,\n",
    "    'patch.edgecolor': '#131313',\n",
    "    'text.color': '#131313',\n",
    "    'axes.facecolor': '#F6F6EE',\n",
    "    'axes.prop_cycle': cycler('color', ['#384A77', '#D0112B', '#FDCF44', '#131313', '#ffffff', '#156261', '#D6D6D6']),\n",
    "    'axes.spines.left' : True,\n",
    "    'axes.spines.right' : False,\n",
    "    'axes.spines.top' : False,\n",
    "    'axes.spines.bottom' : False,\n",
    "    'xtick.top' : False,\n",
    "    'xtick.bottom' : False,\n",
    "    'ytick.left' : False,\n",
    "    'axes.titlepad' : 50.0,\n",
    "    'legend.frameon' : False,\n",
    "    'legend.loc' : 'best',\n",
    "    'legend.columnspacing' : 0.0,\n",
    "    'ytick.major.pad' : 2.5\n",
    "})"
   ]
  },
  {
   "cell_type": "code",
   "execution_count": null,
   "metadata": {},
   "outputs": [],
   "source": []
  },
  {
   "cell_type": "code",
   "execution_count": null,
   "metadata": {},
   "outputs": [],
   "source": [
    "ax = df.plot(x='parameter', kind='barh', figsize=(10,4), title =\"AQI levels in Brooklyn, 20 Jul 2018\")\n",
    "plt.show()"
   ]
  },
  {
   "cell_type": "code",
   "execution_count": null,
   "metadata": {},
   "outputs": [],
   "source": []
  },
  {
   "cell_type": "code",
   "execution_count": null,
   "metadata": {},
   "outputs": [],
   "source": []
  },
  {
   "cell_type": "code",
   "execution_count": 22,
   "metadata": {},
   "outputs": [
    {
     "name": "stdout",
     "output_type": "stream",
     "text": [
      "[{'Latitude': 40.776943, 'Longitude': -124.177498, 'UTC': '2016-02-11T18:00', 'Parameter': 'NO2', 'Unit': 'PPB', 'Value': 2.0, 'AQI': 2, 'Category': 1, 'SiteName': 'Jacobs', 'AgencyName': 'North Coast Unified Air Quality Management District', 'FullAQSCode': '060231004', 'IntlAQSCode': '840060231004'}, {'Latitude': 40.776943, 'Longitude': -124.177498, 'UTC': '2016-02-11T18:00', 'Parameter': 'SO2', 'Unit': 'PPB', 'Value': 1.0, 'AQI': 1, 'Category': 1, 'SiteName': 'Jacobs', 'AgencyName': 'North Coast Unified Air Quality Management District', 'FullAQSCode': '060231004', 'IntlAQSCode': '840060231004'}, {'Latitude': 40.776943, 'Longitude': -124.177498, 'UTC': '2016-02-11T18:00', 'Parameter': 'CO', 'Unit': 'PPM', 'Value': 0.35, 'AQI': -999, 'Category': 0, 'SiteName': 'Jacobs', 'AgencyName': 'North Coast Unified Air Quality Management District', 'FullAQSCode': '060231004', 'IntlAQSCode': '840060231004'}, {'Latitude': 40.6894, 'Longitude': -122.4024, 'UTC': '2016-02-11T18:00', 'Parameter': 'OZONE', 'Unit': 'PPB', 'Value': 25.0, 'AQI': 23, 'Category': 1, 'SiteName': 'Shasta Lake City', 'AgencyName': 'Shasta County Air Quality Management District', 'FullAQSCode': '060890009', 'IntlAQSCode': '840060890009'}, {'Latitude': 40.5497, 'Longitude': -122.3792, 'UTC': '2016-02-11T18:00', 'Parameter': 'OZONE', 'Unit': 'PPB', 'Value': 15.0, 'AQI': 14, 'Category': 1, 'SiteName': 'Redding', 'AgencyName': 'Shasta County Air Quality Management District', 'FullAQSCode': '060890004', 'IntlAQSCode': '840060890004'}, {'Latitude': 40.4531, 'Longitude': -122.2978, 'UTC': '2016-02-11T18:00', 'Parameter': 'PM2.5', 'Unit': 'UG/M3', 'Value': 19.0, 'AQI': 66, 'Category': 2, 'SiteName': 'Anderson', 'AgencyName': 'Shasta County Air Quality Management District', 'FullAQSCode': '060890007', 'IntlAQSCode': '840060890007'}, {'Latitude': 40.4531, 'Longitude': -122.2978, 'UTC': '2016-02-11T18:00', 'Parameter': 'OZONE', 'Unit': 'PPB', 'Value': 3.0, 'AQI': 3, 'Category': 1, 'SiteName': 'Anderson', 'AgencyName': 'Shasta County Air Quality Management District', 'FullAQSCode': '060890007', 'IntlAQSCode': '840060890007'}, {'Latitude': 40.170917, 'Longitude': -122.255667, 'UTC': '2016-02-11T18:00', 'Parameter': 'PM2.5', 'Unit': 'UG/M3', 'Value': 6.0, 'AQI': 25, 'Category': 1, 'SiteName': 'Red Bluff - Walnut office', 'AgencyName': 'Tehama County Air Pollution Control District', 'FullAQSCode': '061030007', 'IntlAQSCode': '840061030007'}, {'Latitude': 40.170917, 'Longitude': -122.255667, 'UTC': '2016-02-11T18:00', 'Parameter': 'OZONE', 'Unit': 'PPB', 'Value': 12.0, 'AQI': 11, 'Category': 1, 'SiteName': 'Red Bluff - Walnut office', 'AgencyName': 'Tehama County Air Pollution Control District', 'FullAQSCode': '061030007', 'IntlAQSCode': '840061030007'}, {'Latitude': 39.533889, 'Longitude': -122.190833, 'UTC': '2016-02-11T18:00', 'Parameter': 'PM10', 'Unit': 'UG/M3', 'Value': 19.0, 'AQI': 18, 'Category': 1, 'SiteName': 'Willows-Colusa', 'AgencyName': 'California Air Resources Board', 'FullAQSCode': '060210003', 'IntlAQSCode': '840060210003'}, {'Latitude': 39.533889, 'Longitude': -122.190833, 'UTC': '2016-02-11T18:00', 'Parameter': 'OZONE', 'Unit': 'PPB', 'Value': 17.0, 'AQI': 16, 'Category': 1, 'SiteName': 'Willows-Colusa', 'AgencyName': 'California Air Resources Board', 'FullAQSCode': '060210003', 'IntlAQSCode': '840060210003'}, {'Latitude': 40.776943, 'Longitude': -124.177498, 'UTC': '2016-02-11T19:00', 'Parameter': 'NO2', 'Unit': 'PPB', 'Value': 5.0, 'AQI': 5, 'Category': 1, 'SiteName': 'Jacobs', 'AgencyName': 'North Coast Unified Air Quality Management District', 'FullAQSCode': '060231004', 'IntlAQSCode': '840060231004'}, {'Latitude': 40.776943, 'Longitude': -124.177498, 'UTC': '2016-02-11T19:00', 'Parameter': 'SO2', 'Unit': 'PPB', 'Value': 1.0, 'AQI': 1, 'Category': 1, 'SiteName': 'Jacobs', 'AgencyName': 'North Coast Unified Air Quality Management District', 'FullAQSCode': '060231004', 'IntlAQSCode': '840060231004'}, {'Latitude': 40.776943, 'Longitude': -124.177498, 'UTC': '2016-02-11T19:00', 'Parameter': 'CO', 'Unit': 'PPM', 'Value': 0.39, 'AQI': -999, 'Category': 0, 'SiteName': 'Jacobs', 'AgencyName': 'North Coast Unified Air Quality Management District', 'FullAQSCode': '060231004', 'IntlAQSCode': '840060231004'}, {'Latitude': 40.6894, 'Longitude': -122.4024, 'UTC': '2016-02-11T19:00', 'Parameter': 'OZONE', 'Unit': 'PPB', 'Value': 28.0, 'AQI': 26, 'Category': 1, 'SiteName': 'Shasta Lake City', 'AgencyName': 'Shasta County Air Quality Management District', 'FullAQSCode': '060890009', 'IntlAQSCode': '840060890009'}, {'Latitude': 40.5497, 'Longitude': -122.3792, 'UTC': '2016-02-11T19:00', 'Parameter': 'OZONE', 'Unit': 'PPB', 'Value': 18.0, 'AQI': 17, 'Category': 1, 'SiteName': 'Redding', 'AgencyName': 'Shasta County Air Quality Management District', 'FullAQSCode': '060890004', 'IntlAQSCode': '840060890004'}, {'Latitude': 40.4531, 'Longitude': -122.2978, 'UTC': '2016-02-11T19:00', 'Parameter': 'PM2.5', 'Unit': 'UG/M3', 'Value': 19.2, 'AQI': 66, 'Category': 2, 'SiteName': 'Anderson', 'AgencyName': 'Shasta County Air Quality Management District', 'FullAQSCode': '060890007', 'IntlAQSCode': '840060890007'}, {'Latitude': 40.4531, 'Longitude': -122.2978, 'UTC': '2016-02-11T19:00', 'Parameter': 'OZONE', 'Unit': 'PPB', 'Value': 4.0, 'AQI': 4, 'Category': 1, 'SiteName': 'Anderson', 'AgencyName': 'Shasta County Air Quality Management District', 'FullAQSCode': '060890007', 'IntlAQSCode': '840060890007'}, {'Latitude': 40.170917, 'Longitude': -122.255667, 'UTC': '2016-02-11T19:00', 'Parameter': 'PM2.5', 'Unit': 'UG/M3', 'Value': 6.3, 'AQI': 26, 'Category': 1, 'SiteName': 'Red Bluff - Walnut office', 'AgencyName': 'Tehama County Air Pollution Control District', 'FullAQSCode': '061030007', 'IntlAQSCode': '840061030007'}, {'Latitude': 40.170917, 'Longitude': -122.255667, 'UTC': '2016-02-11T19:00', 'Parameter': 'OZONE', 'Unit': 'PPB', 'Value': 15.0, 'AQI': 14, 'Category': 1, 'SiteName': 'Red Bluff - Walnut office', 'AgencyName': 'Tehama County Air Pollution Control District', 'FullAQSCode': '061030007', 'IntlAQSCode': '840061030007'}, {'Latitude': 39.533889, 'Longitude': -122.190833, 'UTC': '2016-02-11T19:00', 'Parameter': 'OZONE', 'Unit': 'PPB', 'Value': 22.0, 'AQI': 20, 'Category': 1, 'SiteName': 'Willows-Colusa', 'AgencyName': 'California Air Resources Board', 'FullAQSCode': '060210003', 'IntlAQSCode': '840060210003'}, {'Latitude': 39.533889, 'Longitude': -122.190833, 'UTC': '2016-02-11T19:00', 'Parameter': 'PM10', 'Unit': 'UG/M3', 'Value': 19.0, 'AQI': 18, 'Category': 1, 'SiteName': 'Willows-Colusa', 'AgencyName': 'California Air Resources Board', 'FullAQSCode': '060210003', 'IntlAQSCode': '840060210003'}]\n"
     ]
    }
   ],
   "source": [
    "data = requests.get(\"http://www.airnowapi.org/aq/data/?startDate=2016-02-11T18&endDate=2016-02-11T19&parameters=O3,PM25,PM10,CO,NO2,SO2&BBOX=-124.559937,39.459253,-122.098999,40.803150&dataType=B&format=application/json&verbose=1&API_KEY=6B775717-4A4F-46C1-A781-04A531D11793\")\n",
    "data_json = data.json()\n",
    "print(data_json)"
   ]
  },
  {
   "cell_type": "code",
   "execution_count": null,
   "metadata": {},
   "outputs": [],
   "source": []
  }
 ],
 "metadata": {
  "kernelspec": {
   "display_name": "Python 3",
   "language": "python",
   "name": "python3"
  },
  "language_info": {
   "codemirror_mode": {
    "name": "ipython",
    "version": 3
   },
   "file_extension": ".py",
   "mimetype": "text/x-python",
   "name": "python",
   "nbconvert_exporter": "python",
   "pygments_lexer": "ipython3",
   "version": "3.6.5"
  }
 },
 "nbformat": 4,
 "nbformat_minor": 2
}
