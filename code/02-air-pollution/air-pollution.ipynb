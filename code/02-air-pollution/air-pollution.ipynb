{
 "cells": [
  {
   "cell_type": "markdown",
   "metadata": {},
   "source": [
    "# Current"
   ]
  },
  {
   "cell_type": "code",
   "execution_count": 2,
   "metadata": {},
   "outputs": [
    {
     "name": "stdout",
     "output_type": "stream",
     "text": [
      "[{'DateIssue': '2018-07-19 ', 'DateForecast': '2018-07-20 ', 'ReportingArea': 'New York City Region', 'StateCode': 'NY', 'Latitude': 40.81, 'Longitude': -73.89, 'ParameterName': 'O3', 'AQI': 71, 'Category': {'Number': 2, 'Name': 'Moderate'}, 'ActionDay': False, 'Discussion': ''}, {'DateIssue': '2018-07-19 ', 'DateForecast': '2018-07-20 ', 'ReportingArea': 'New York City Region', 'StateCode': 'NY', 'Latitude': 40.81, 'Longitude': -73.89, 'ParameterName': 'PM2.5', 'AQI': 49, 'Category': {'Number': 1, 'Name': 'Good'}, 'ActionDay': False, 'Discussion': ''}]\n"
     ]
    }
   ],
   "source": [
    "import requests\n",
    "response = requests.get('http://www.airnowapi.org/aq/forecast/zipCode/?format=application/json&zipCode=11211&date=2018-07-20&distance=5&API_KEY=6DA9B461-48E2-4723-90B8-D62E5E7F2EE6')\n",
    "data = response.json()\n",
    "print(data)"
   ]
  },
  {
   "cell_type": "markdown",
   "metadata": {},
   "source": [
    "# Specific date"
   ]
  },
  {
   "cell_type": "code",
   "execution_count": 5,
   "metadata": {},
   "outputs": [
    {
     "name": "stdout",
     "output_type": "stream",
     "text": [
      "[{'DateObserved': '2018-07-01 ', 'HourObserved': 0, 'LocalTimeZone': 'EST', 'ReportingArea': 'New York City Region', 'StateCode': 'NY', 'Latitude': 40.81, 'Longitude': -73.89, 'ParameterName': 'OZONE', 'AQI': 140, 'Category': {'Number': 3, 'Name': 'Unhealthy for Sensitive Groups'}}, {'DateObserved': '2018-07-01 ', 'HourObserved': 0, 'LocalTimeZone': 'EST', 'ReportingArea': 'New York City Region', 'StateCode': 'NY', 'Latitude': 40.81, 'Longitude': -73.89, 'ParameterName': 'PM2.5', 'AQI': 74, 'Category': {'Number': 2, 'Name': 'Moderate'}}]\n"
     ]
    }
   ],
   "source": [
    "import requests\n",
    "response = requests.get('http://www.airnowapi.org/aq/observation/zipCode/historical/?format=application/json&zipCode=11211&date=2018-07-01T00-0000&distance=25&API_KEY=6DA9B461-48E2-4723-90B8-D62E5E7F2EE6')\n",
    "data = response.json()\n",
    "print(data)"
   ]
  },
  {
   "cell_type": "code",
   "execution_count": 11,
   "metadata": {},
   "outputs": [
    {
     "name": "stdout",
     "output_type": "stream",
     "text": [
      "OZONE 140 Unhealthy for Sensitive Groups\n",
      "PM2.5 74 Moderate\n"
     ]
    }
   ],
   "source": [
    "for row in data:\n",
    "    print(row['ParameterName'], row['AQI'], row['Category']['Name'])"
   ]
  },
  {
   "cell_type": "code",
   "execution_count": 12,
   "metadata": {},
   "outputs": [
    {
     "name": "stdout",
     "output_type": "stream",
     "text": [
      "[{'parameter': 'OZONE', 'aqi': 140, 'category': 'Unhealthy for Sensitive Groups'}, {'parameter': 'PM2.5', 'aqi': 74, 'category': 'Moderate'}]\n"
     ]
    }
   ],
   "source": [
    "dt = []\n",
    "\n",
    "for row in data:\n",
    "    \n",
    "    newdict = {}\n",
    "    \n",
    "    newdict['parameter'] = row['ParameterName']\n",
    "    newdict['aqi'] = row['AQI']\n",
    "    newdict['category'] = row['Category']['Name']\n",
    "    \n",
    "    dt.append(newdict)\n",
    "    \n",
    "print(dt)"
   ]
  },
  {
   "cell_type": "code",
   "execution_count": 21,
   "metadata": {},
   "outputs": [
    {
     "data": {
      "text/html": [
       "<div>\n",
       "<style scoped>\n",
       "    .dataframe tbody tr th:only-of-type {\n",
       "        vertical-align: middle;\n",
       "    }\n",
       "\n",
       "    .dataframe tbody tr th {\n",
       "        vertical-align: top;\n",
       "    }\n",
       "\n",
       "    .dataframe thead th {\n",
       "        text-align: right;\n",
       "    }\n",
       "</style>\n",
       "<table border=\"1\" class=\"dataframe\">\n",
       "  <thead>\n",
       "    <tr style=\"text-align: right;\">\n",
       "      <th></th>\n",
       "      <th>aqi</th>\n",
       "      <th>category</th>\n",
       "      <th>parameter</th>\n",
       "    </tr>\n",
       "  </thead>\n",
       "  <tbody>\n",
       "    <tr>\n",
       "      <th>0</th>\n",
       "      <td>140</td>\n",
       "      <td>Unhealthy for Sensitive Groups</td>\n",
       "      <td>OZONE</td>\n",
       "    </tr>\n",
       "    <tr>\n",
       "      <th>1</th>\n",
       "      <td>74</td>\n",
       "      <td>Moderate</td>\n",
       "      <td>PM2.5</td>\n",
       "    </tr>\n",
       "  </tbody>\n",
       "</table>\n",
       "</div>"
      ],
      "text/plain": [
       "   aqi                        category parameter\n",
       "0  140  Unhealthy for Sensitive Groups     OZONE\n",
       "1   74                        Moderate     PM2.5"
      ]
     },
     "execution_count": 21,
     "metadata": {},
     "output_type": "execute_result"
    }
   ],
   "source": [
    "import pandas as pd\n",
    "\n",
    "df = pd.DataFrame(dt)\n",
    "\n",
    "df"
   ]
  },
  {
   "cell_type": "code",
   "execution_count": 19,
   "metadata": {},
   "outputs": [
    {
     "data": {
      "text/plain": [
       "aqi           int64\n",
       "category     object\n",
       "parameter    object\n",
       "dtype: object"
      ]
     },
     "execution_count": 19,
     "metadata": {},
     "output_type": "execute_result"
    }
   ],
   "source": [
    "df.dtypes"
   ]
  },
  {
   "cell_type": "code",
   "execution_count": 51,
   "metadata": {},
   "outputs": [
    {
     "data": {
      "text/plain": [
       "0    140.0\n",
       "1     74.0\n",
       "Name: aqi, dtype: float64"
      ]
     },
     "execution_count": 51,
     "metadata": {},
     "output_type": "execute_result"
    }
   ],
   "source": [
    "df.aqi"
   ]
  },
  {
   "cell_type": "code",
   "execution_count": null,
   "metadata": {},
   "outputs": [],
   "source": []
  },
  {
   "cell_type": "code",
   "execution_count": null,
   "metadata": {},
   "outputs": [],
   "source": []
  },
  {
   "cell_type": "code",
   "execution_count": 52,
   "metadata": {},
   "outputs": [],
   "source": [
    "import matplotlib.pyplot as plt\n",
    "from cycler import cycler\n",
    "\n",
    "%matplotlib inline"
   ]
  },
  {
   "cell_type": "code",
   "execution_count": 53,
   "metadata": {},
   "outputs": [],
   "source": [
    "plt.rcdefaults()\n",
    "plt.rcParams.update({\n",
    "    'pdf.fonttype': 42,\n",
    "    'ps.fonttype': 42,\n",
    "    'axes.titlesize': 'x-large',\n",
    "    'axes.grid': True,\n",
    "    'grid.color': '#131313',\n",
    "    'axes.axisbelow': True,\n",
    "    'font.serif': 'Arial',\n",
    "    'figure.facecolor': '#F6F6EE',\n",
    "    'figure.titleweight' : 'bold',\n",
    "    'figure.titlesize' : 'large',\n",
    "    'axes.grid': False,\n",
    "    'patch.edgecolor': '#131313',\n",
    "    'text.color': '#131313',\n",
    "    'axes.facecolor': '#F6F6EE',\n",
    "    'axes.prop_cycle': cycler('color', ['#384A77', '#D0112B', '#FDCF44', '#131313', '#ffffff', '#156261', '#D6D6D6']),\n",
    "    'axes.spines.left' : True,\n",
    "    'axes.spines.right' : False,\n",
    "    'axes.spines.top' : False,\n",
    "    'axes.spines.bottom' : False,\n",
    "    'xtick.top' : False,\n",
    "    'xtick.bottom' : False,\n",
    "    'ytick.left' : False,\n",
    "    'axes.titlepad' : 50.0,\n",
    "    'legend.frameon' : False,\n",
    "    'legend.loc' : 'best',\n",
    "    'legend.columnspacing' : 0.0,\n",
    "    'ytick.major.pad' : 2.5\n",
    "})"
   ]
  },
  {
   "cell_type": "code",
   "execution_count": null,
   "metadata": {},
   "outputs": [],
   "source": []
  },
  {
   "cell_type": "code",
   "execution_count": 54,
   "metadata": {},
   "outputs": [
    {
     "data": {
      "image/png": "[encoded data removed]",
      "text/plain": [
       "<Figure size 1000x400 with 1 Axes>"
      ]
     },
     "metadata": {},
     "output_type": "display_data"
    }
   ],
   "source": [
    "df.plot(x='category', kind='barh', figsize=(10,4))\n",
    "plt.show()"
   ]
  },
  {
   "cell_type": "code",
   "execution_count": null,
   "metadata": {},
   "outputs": [],
   "source": []
  }
 ],
 "metadata": {
  "kernelspec": {
   "display_name": "Python 3",
   "language": "python",
   "name": "python3"
  },
  "language_info": {
   "codemirror_mode": {
    "name": "ipython",
    "version": 3
   },
   "file_extension": ".py",
   "mimetype": "text/x-python",
   "name": "python",
   "nbconvert_exporter": "python",
   "pygments_lexer": "ipython3",
   "version": "3.6.5"
  }
 },
 "nbformat": 4,
 "nbformat_minor": 2
}
